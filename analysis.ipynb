{
 "cells": [
  {
   "cell_type": "code",
   "execution_count": 2,
   "metadata": {},
   "outputs": [],
   "source": [
    "import matplotlib.pyplot as plt\n",
    "import seaborn as sns\n",
    "from mne.decoding import ReceptiveField\n",
    "import pickle\n",
    "import numpy as np\n",
    "import modin.pandas as pd\n",
    "import os\n",
    "from tqdm import tqdm\n",
    "from matplotlib.pyplot import MultipleLocator\n",
    "from matplotlib.gridspec import GridSpec\n",
    "from utils import returnSpec\n",
    "from distributed import Client\n",
    "client = Client()\n"
   ]
  },
  {
   "cell_type": "code",
   "execution_count": 3,
   "metadata": {},
   "outputs": [
    {
     "data": {
      "text/html": [
       "<div>\n",
       "<style scoped>\n",
       "    .dataframe tbody tr th:only-of-type {\n",
       "        vertical-align: middle;\n",
       "    }\n",
       "\n",
       "    .dataframe tbody tr th {\n",
       "        vertical-align: top;\n",
       "    }\n",
       "\n",
       "    .dataframe thead th {\n",
       "        text-align: right;\n",
       "    }\n",
       "</style>\n",
       "<table border=\"1\" class=\"dataframe\">\n",
       "  <thead>\n",
       "    <tr style=\"text-align: right;\">\n",
       "      <th></th>\n",
       "      <th>Unnamed: 0</th>\n",
       "      <th>channel</th>\n",
       "      <th>frequency</th>\n",
       "      <th>amplitude</th>\n",
       "      <th>condition</th>\n",
       "      <th>subject</th>\n",
       "    </tr>\n",
       "  </thead>\n",
       "  <tbody>\n",
       "    <tr>\n",
       "      <th>0</th>\n",
       "      <td>0</td>\n",
       "      <td>O1</td>\n",
       "      <td>1.5</td>\n",
       "      <td>3.021581e-12</td>\n",
       "      <td>99</td>\n",
       "      <td>huangchangxing</td>\n",
       "    </tr>\n",
       "    <tr>\n",
       "      <th>1</th>\n",
       "      <td>1</td>\n",
       "      <td>OZ</td>\n",
       "      <td>1.5</td>\n",
       "      <td>3.265828e-12</td>\n",
       "      <td>99</td>\n",
       "      <td>huangchangxing</td>\n",
       "    </tr>\n",
       "    <tr>\n",
       "      <th>2</th>\n",
       "      <td>2</td>\n",
       "      <td>O2</td>\n",
       "      <td>1.5</td>\n",
       "      <td>2.774180e-12</td>\n",
       "      <td>99</td>\n",
       "      <td>huangchangxing</td>\n",
       "    </tr>\n",
       "    <tr>\n",
       "      <th>3</th>\n",
       "      <td>3</td>\n",
       "      <td>POZ</td>\n",
       "      <td>1.5</td>\n",
       "      <td>2.045798e-12</td>\n",
       "      <td>99</td>\n",
       "      <td>huangchangxing</td>\n",
       "    </tr>\n",
       "    <tr>\n",
       "      <th>4</th>\n",
       "      <td>4</td>\n",
       "      <td>PZ</td>\n",
       "      <td>1.5</td>\n",
       "      <td>1.977864e-12</td>\n",
       "      <td>99</td>\n",
       "      <td>huangchangxing</td>\n",
       "    </tr>\n",
       "  </tbody>\n",
       "</table>\n",
       "</div>"
      ],
      "text/plain": [
       "   Unnamed: 0 channel  frequency     amplitude  condition         subject\n",
       "0           0      O1        1.5  3.021581e-12         99  huangchangxing\n",
       "1           1      OZ        1.5  3.265828e-12         99  huangchangxing\n",
       "2           2      O2        1.5  2.774180e-12         99  huangchangxing\n",
       "3           3     POZ        1.5  2.045798e-12         99  huangchangxing\n",
       "4           4      PZ        1.5  1.977864e-12         99  huangchangxing"
      ]
     },
     "execution_count": 3,
     "metadata": {},
     "output_type": "execute_result"
    }
   ],
   "source": [
    "spectral = []\n",
    "add = 'results/exp-1/ssvep'\n",
    "subs = os.listdir(add)\n",
    "\n",
    "for sub in subs:\n",
    "    subFolder = add+os.sep+sub\n",
    "    f = pd.read_csv(subFolder+os.sep+'spectral.csv')\n",
    "    spectral.append(f)\n",
    "\n",
    "spectral = pd.concat(spectral, ignore_index=True).drop_duplicates()\n",
    "spectral.head()"
   ]
  },
  {
   "cell_type": "code",
   "execution_count": 4,
   "metadata": {},
   "outputs": [
    {
     "data": {
      "text/plain": [
       "<AxesSubplot:xlabel='frequency', ylabel='amplitude'>"
      ]
     },
     "execution_count": 4,
     "metadata": {},
     "output_type": "execute_result"
    },
    {
     "data": {
      "image/png": "[encoded data removed]",
      "text/plain": [
       "<Figure size 432x288 with 1 Axes>"
      ]
     },
     "metadata": {
      "needs_background": "light"
     },
     "output_type": "display_data"
    }
   ],
   "source": [
    "sns.lineplot(data=spectral[spectral.condition==99], x='frequency', y='amplitude')"
   ]
  },
  {
   "cell_type": "code",
   "execution_count": null,
   "metadata": {},
   "outputs": [],
   "source": []
  }
 ],
 "metadata": {
  "kernelspec": {
   "display_name": "Python 3.8.5 ('base')",
   "language": "python",
   "name": "python3"
  },
  "language_info": {
   "codemirror_mode": {
    "name": "ipython",
    "version": 3
   },
   "file_extension": ".py",
   "mimetype": "text/x-python",
   "name": "python",
   "nbconvert_exporter": "python",
   "pygments_lexer": "ipython3",
   "version": "3.8.5"
  },
  "orig_nbformat": 4,
  "vscode": {
   "interpreter": {
    "hash": "738b996afe2da5960d326b652730d0fe79e83941aa5e7e236ea36fecd662bb25"
   }
  }
 },
 "nbformat": 4,
 "nbformat_minor": 2
}
